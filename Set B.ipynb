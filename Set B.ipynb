{
  "nbformat": 4,
  "nbformat_minor": 0,
  "metadata": {
    "colab": {
      "provenance": [],
      "gpuType": "T4"
    },
    "kernelspec": {
      "name": "python3",
      "display_name": "Python 3"
    },
    "language_info": {
      "name": "python"
    },
    "accelerator": "GPU"
  },
  "cells": [
    {
      "cell_type": "code",
      "source": [
        "def generate_gpt3_prompt(answers):\n",
        "    allowed_fruits = [\"oranges\", \"apples\", \"pears\", \"grapes\", \"watermelon\", \"lemon\", \"lime\"]\n",
        "\n",
        "    # Apply rules based on answers\n",
        "    if answers['go_out_to_party'] == 'yes':\n",
        "        allowed_fruits = list(set(allowed_fruits) & set([\"apples\", \"pears\", \"grapes\", \"watermelon\"]))\n",
        "\n",
        "    if answers['flavours'] == 'cider':\n",
        "        allowed_fruits = list(set(allowed_fruits) & set([\"apples\", \"oranges\", \"lemon\", \"lime\"]))\n",
        "\n",
        "    if answers['flavours'] == 'sweet':\n",
        "        allowed_fruits = list(set(allowed_fruits) & set([\"watermelon\", \"oranges\"]))\n",
        "\n",
        "    if answers['flavours'] == 'waterlike':\n",
        "        allowed_fruits = list(set(allowed_fruits) & set([\"watermelon\"]))\n",
        "\n",
        "    if 'grapes' in answers.get('flavours', []):\n",
        "        allowed_fruits = [fruit for fruit in allowed_fruits if fruit != 'watermelon']\n",
        "\n",
        "    if answers['texture_not_like'] == 'smooth':\n",
        "        allowed_fruits = [fruit for fruit in allowed_fruits if fruit != 'pears']\n",
        "\n",
        "    if answers['texture_not_like'] == 'slimy':\n",
        "        allowed_fruits = [fruit for fruit in allowed_fruits if fruit not in [\"watermelon\", \"lime\", \"grapes\"]]\n",
        "\n",
        "    if answers['texture_not_like'] == 'waterlike':\n",
        "        allowed_fruits = [fruit for fruit in allowed_fruits if fruit != 'watermelon']\n",
        "\n",
        "    if answers['price_range'] == '< $3':\n",
        "        allowed_fruits = [fruit for fruit in allowed_fruits if fruit not in [\"lime\", \"watermelon\"]]\n",
        "\n",
        "    if answers['price_range'] in ['> $4 and < $7', '> $4 and < $7']:\n",
        "        allowed_fruits = [fruit for fruit in allowed_fruits if fruit not in [\"pears\", \"apples\"]]\n",
        "\n",
        "    # Generate GPT-3 prompt\n",
        "    prompt = f\"Based on your answers:\\n\" \\\n",
        "             f\"- Go out to party: {answers['go_out_to_party']}\\n\" \\\n",
        "             f\"- Flavours: {answers['flavours']}\\n\" \\\n",
        "             f\"- Texture not liked: {answers['texture_not_like']}\\n\" \\\n",
        "             f\"- Price range: {answers['price_range']}\\n\" \\\n",
        "             f\"The recommended fruits are: {', '.join(allowed_fruits)}.\"\n",
        "\n",
        "    return prompt"
      ],
      "metadata": {
        "id": "housXBXg1FFK"
      },
      "execution_count": 5,
      "outputs": []
    },
    {
      "cell_type": "code",
      "source": [
        "from flask import Flask, request, jsonify\n",
        "\n",
        "app = Flask(__name__)\n",
        "\n",
        "@app.route('/get_recommendation', methods=['POST'])\n",
        "def get_recommendation():\n",
        "    try:\n",
        "        data = request.get_json()\n",
        "        if data:\n",
        "            answers = {\n",
        "                'go_out_to_party': data.get('go_out_to_party', ''),\n",
        "                'flavours': data.get('flavours', ''),\n",
        "                'texture_not_like': data.get('texture_not_like', ''),\n",
        "                'price_range': data.get('price_range', '')\n",
        "            }\n",
        "\n",
        "            # Call the function to generate GPT-3 prompt\n",
        "            prompt = generate_gpt3_prompt(answers)\n",
        "\n",
        "            return jsonify({'prompt': prompt})\n",
        "        else:\n",
        "            return jsonify({'error': 'Invalid JSON format'}), 400\n",
        "    except Exception as e:\n",
        "        return jsonify({'error': str(e)}), 500\n",
        "\n",
        "if __name__ == '__main__':\n",
        "    app.run(debug=True)"
      ],
      "metadata": {
        "colab": {
          "base_uri": "https://localhost:8080/"
        },
        "id": "KxQpG1f91Ivl",
        "outputId": "2d8b6083-2a69-4365-cfca-4ddcd39f84ec"
      },
      "execution_count": 6,
      "outputs": [
        {
          "output_type": "stream",
          "name": "stdout",
          "text": [
            " * Serving Flask app '__main__'\n",
            " * Debug mode: on\n"
          ]
        },
        {
          "output_type": "stream",
          "name": "stderr",
          "text": [
            "INFO:werkzeug:\u001b[31m\u001b[1mWARNING: This is a development server. Do not use it in a production deployment. Use a production WSGI server instead.\u001b[0m\n",
            " * Running on http://127.0.0.1:5000\n",
            "INFO:werkzeug:\u001b[33mPress CTRL+C to quit\u001b[0m\n",
            "INFO:werkzeug: * Restarting with stat\n"
          ]
        }
      ]
    },
    {
      "cell_type": "code",
      "source": [
        "##for api testing\n",
        "\n",
        "curl -X POST -H \"Content-Type: application/json\" -d '{\n",
        "  \"go_out_to_party\": \"no\",\n",
        "  \"flavours\": \"sweet\",\n",
        "  \"texture_not_like\": \"smooth\",\n",
        "  \"price_range\": \"$5\"\n",
        "}' http://localhost:5000/get_recommendation\n"
      ],
      "metadata": {
        "id": "guY8s17Fc_Ay"
      },
      "execution_count": null,
      "outputs": []
    }
  ]
}